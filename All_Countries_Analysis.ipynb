{
 "cells": [
  {
   "cell_type": "code",
   "execution_count": 77,
   "metadata": {
    "collapsed": false
   },
   "outputs": [],
   "source": [
    "import numpy as np\n",
    "import pandas as pd \n",
    "import matplotlib.pyplot as plt\n",
    "%matplotlib inline"
   ]
  },
  {
   "cell_type": "code",
   "execution_count": 78,
   "metadata": {
    "collapsed": true
   },
   "outputs": [],
   "source": [
    "dataset=pd.read_csv('AllCountries.csv')"
   ]
  },
  {
   "cell_type": "code",
   "execution_count": 79,
   "metadata": {
    "collapsed": false
   },
   "outputs": [
    {
     "data": {
      "text/plain": [
       "(217, 25)"
      ]
     },
     "execution_count": 79,
     "metadata": {},
     "output_type": "execute_result"
    }
   ],
   "source": [
    "dataset.shape\n"
   ]
  },
  {
   "cell_type": "code",
   "execution_count": 80,
   "metadata": {
    "collapsed": false
   },
   "outputs": [
    {
     "data": {
      "text/html": [
       "<div>\n",
       "<table border=\"1\" class=\"dataframe\">\n",
       "  <thead>\n",
       "    <tr style=\"text-align: right;\">\n",
       "      <th></th>\n",
       "      <th>Country</th>\n",
       "      <th>LandArea</th>\n",
       "      <th>Population</th>\n",
       "      <th>Density</th>\n",
       "      <th>GDP</th>\n",
       "      <th>Rural</th>\n",
       "      <th>CO2</th>\n",
       "      <th>PumpPrice</th>\n",
       "      <th>Military</th>\n",
       "      <th>Health</th>\n",
       "      <th>...</th>\n",
       "      <th>Diabetes</th>\n",
       "      <th>BirthRate</th>\n",
       "      <th>DeathRate</th>\n",
       "      <th>ElderlyPop</th>\n",
       "      <th>LifeExpectancy</th>\n",
       "      <th>FemaleLabor</th>\n",
       "      <th>Unemployment</th>\n",
       "      <th>EnergyUse</th>\n",
       "      <th>Electricity</th>\n",
       "      <th>Developed</th>\n",
       "    </tr>\n",
       "  </thead>\n",
       "  <tbody>\n",
       "    <tr>\n",
       "      <th>0</th>\n",
       "      <td>Afghanistan</td>\n",
       "      <td>652.86</td>\n",
       "      <td>30.552</td>\n",
       "      <td>46.8</td>\n",
       "      <td>665.0</td>\n",
       "      <td>74.1</td>\n",
       "      <td>35.3</td>\n",
       "      <td>1.28</td>\n",
       "      <td>8.65</td>\n",
       "      <td>7.07</td>\n",
       "      <td>...</td>\n",
       "      <td>8.1</td>\n",
       "      <td>34.1</td>\n",
       "      <td>7.8</td>\n",
       "      <td>2.3</td>\n",
       "      <td>60.9</td>\n",
       "      <td>16.2</td>\n",
       "      <td>NaN</td>\n",
       "      <td>NaN</td>\n",
       "      <td>NaN</td>\n",
       "      <td>NaN</td>\n",
       "    </tr>\n",
       "    <tr>\n",
       "      <th>1</th>\n",
       "      <td>Albania</td>\n",
       "      <td>27.40</td>\n",
       "      <td>2.897</td>\n",
       "      <td>105.7</td>\n",
       "      <td>4460.0</td>\n",
       "      <td>44.6</td>\n",
       "      <td>12.8</td>\n",
       "      <td>1.81</td>\n",
       "      <td>NaN</td>\n",
       "      <td>9.85</td>\n",
       "      <td>...</td>\n",
       "      <td>2.6</td>\n",
       "      <td>12.9</td>\n",
       "      <td>6.9</td>\n",
       "      <td>10.7</td>\n",
       "      <td>77.5</td>\n",
       "      <td>51.7</td>\n",
       "      <td>13.4</td>\n",
       "      <td>748.0</td>\n",
       "      <td>2195.0</td>\n",
       "      <td>1.0</td>\n",
       "    </tr>\n",
       "    <tr>\n",
       "      <th>2</th>\n",
       "      <td>Algeria</td>\n",
       "      <td>2381.74</td>\n",
       "      <td>39.208</td>\n",
       "      <td>16.5</td>\n",
       "      <td>5361.0</td>\n",
       "      <td>30.5</td>\n",
       "      <td>24.6</td>\n",
       "      <td>0.29</td>\n",
       "      <td>NaN</td>\n",
       "      <td>9.43</td>\n",
       "      <td>...</td>\n",
       "      <td>7.3</td>\n",
       "      <td>24.3</td>\n",
       "      <td>5.9</td>\n",
       "      <td>4.6</td>\n",
       "      <td>71.0</td>\n",
       "      <td>16.2</td>\n",
       "      <td>11.0</td>\n",
       "      <td>1108.0</td>\n",
       "      <td>1091.0</td>\n",
       "      <td>1.0</td>\n",
       "    </tr>\n",
       "    <tr>\n",
       "      <th>3</th>\n",
       "      <td>American Samoa</td>\n",
       "      <td>0.20</td>\n",
       "      <td>0.055</td>\n",
       "      <td>275.0</td>\n",
       "      <td>NaN</td>\n",
       "      <td>12.7</td>\n",
       "      <td>NaN</td>\n",
       "      <td>NaN</td>\n",
       "      <td>NaN</td>\n",
       "      <td>NaN</td>\n",
       "      <td>...</td>\n",
       "      <td>NaN</td>\n",
       "      <td>NaN</td>\n",
       "      <td>NaN</td>\n",
       "      <td>NaN</td>\n",
       "      <td>NaN</td>\n",
       "      <td>NaN</td>\n",
       "      <td>NaN</td>\n",
       "      <td>NaN</td>\n",
       "      <td>NaN</td>\n",
       "      <td>NaN</td>\n",
       "    </tr>\n",
       "    <tr>\n",
       "      <th>4</th>\n",
       "      <td>Andorra</td>\n",
       "      <td>0.47</td>\n",
       "      <td>0.079</td>\n",
       "      <td>168.1</td>\n",
       "      <td>NaN</td>\n",
       "      <td>13.8</td>\n",
       "      <td>9.5</td>\n",
       "      <td>1.67</td>\n",
       "      <td>NaN</td>\n",
       "      <td>23.14</td>\n",
       "      <td>...</td>\n",
       "      <td>5.4</td>\n",
       "      <td>NaN</td>\n",
       "      <td>NaN</td>\n",
       "      <td>NaN</td>\n",
       "      <td>NaN</td>\n",
       "      <td>NaN</td>\n",
       "      <td>NaN</td>\n",
       "      <td>NaN</td>\n",
       "      <td>NaN</td>\n",
       "      <td>NaN</td>\n",
       "    </tr>\n",
       "  </tbody>\n",
       "</table>\n",
       "<p>5 rows × 25 columns</p>\n",
       "</div>"
      ],
      "text/plain": [
       "          Country  LandArea  Population  Density     GDP  Rural   CO2  \\\n",
       "0     Afghanistan    652.86      30.552     46.8   665.0   74.1  35.3   \n",
       "1         Albania     27.40       2.897    105.7  4460.0   44.6  12.8   \n",
       "2         Algeria   2381.74      39.208     16.5  5361.0   30.5  24.6   \n",
       "3  American Samoa      0.20       0.055    275.0     NaN   12.7   NaN   \n",
       "4         Andorra      0.47       0.079    168.1     NaN   13.8   9.5   \n",
       "\n",
       "   PumpPrice  Military  Health    ...      Diabetes  BirthRate  DeathRate  \\\n",
       "0       1.28      8.65    7.07    ...           8.1       34.1        7.8   \n",
       "1       1.81       NaN    9.85    ...           2.6       12.9        6.9   \n",
       "2       0.29       NaN    9.43    ...           7.3       24.3        5.9   \n",
       "3        NaN       NaN     NaN    ...           NaN        NaN        NaN   \n",
       "4       1.67       NaN   23.14    ...           5.4        NaN        NaN   \n",
       "\n",
       "   ElderlyPop  LifeExpectancy  FemaleLabor  Unemployment  EnergyUse  \\\n",
       "0         2.3            60.9         16.2           NaN        NaN   \n",
       "1        10.7            77.5         51.7          13.4      748.0   \n",
       "2         4.6            71.0         16.2          11.0     1108.0   \n",
       "3         NaN             NaN          NaN           NaN        NaN   \n",
       "4         NaN             NaN          NaN           NaN        NaN   \n",
       "\n",
       "   Electricity  Developed  \n",
       "0          NaN        NaN  \n",
       "1       2195.0        1.0  \n",
       "2       1091.0        1.0  \n",
       "3          NaN        NaN  \n",
       "4          NaN        NaN  \n",
       "\n",
       "[5 rows x 25 columns]"
      ]
     },
     "execution_count": 80,
     "metadata": {},
     "output_type": "execute_result"
    }
   ],
   "source": [
    "dataset.head()"
   ]
  },
  {
   "cell_type": "code",
   "execution_count": 81,
   "metadata": {
    "collapsed": false
   },
   "outputs": [
    {
     "data": {
      "text/plain": [
       "<bound method NDFrame.describe of                       Country  LandArea  Population  Density      GDP  Rural  \\\n",
       "0                 Afghanistan   652.860      30.552     46.8    665.0   74.1   \n",
       "1                     Albania    27.400       2.897    105.7   4460.0   44.6   \n",
       "2                     Algeria  2381.740      39.208     16.5   5361.0   30.5   \n",
       "3              American Samoa     0.200       0.055    275.0      NaN   12.7   \n",
       "4                     Andorra     0.470       0.079    168.1      NaN   13.8   \n",
       "5                      Angola  1246.700      21.472     17.2   5783.0   57.5   \n",
       "6         Antigua and Barbuda     0.440       0.090    204.5  13342.0   75.4   \n",
       "7                   Argentina  2736.690      41.446     15.1  14715.0    8.5   \n",
       "8                     Armenia    28.470       2.977    104.6   3505.0   37.0   \n",
       "9                       Aruba     0.180       0.103    572.2      NaN   57.9   \n",
       "10                  Australia  7682.300      23.129      3.0  67463.0   10.8   \n",
       "11                    Austria    82.409       8.480    102.9  50511.0   34.1   \n",
       "12                 Azerbaijan    82.658       9.417    113.9   7812.0   45.9   \n",
       "13               Bahamas, The    10.010       0.377     37.7  22312.0   17.3   \n",
       "14                    Bahrain     0.760       1.332   1752.6  24689.0   11.3   \n",
       "15                 Bangladesh   130.170     156.595   1203.0    958.0   67.2   \n",
       "16                   Barbados     0.430       0.285    662.8      NaN   68.3   \n",
       "17                    Belarus   202.910       9.466     46.7   7575.0   24.1   \n",
       "18                    Belgium    30.280      11.183    369.3  46930.0    2.2   \n",
       "19                     Belize    22.810       0.332     14.6   4894.0   55.7   \n",
       "20                      Benin   112.760      10.323     91.5    805.0   56.9   \n",
       "21                    Bermuda     0.050       0.065   1300.0      NaN    0.0   \n",
       "22                     Bhutan    38.117       0.754     19.8   2363.0   62.9   \n",
       "23                    Bolivia  1083.300      10.671      9.9   2868.0   32.3   \n",
       "24     Bosnia and Herzegovina    51.000       3.829     75.1   4662.0   60.5   \n",
       "25                   Botswana   566.730       2.021      3.6   7315.0   43.1   \n",
       "26                     Brazil  8358.140     200.362     24.0  11208.0   14.8   \n",
       "27          Brunei Darussalam     5.270       0.418     79.3  38563.0   23.4   \n",
       "28                   Bulgaria   108.560       7.265     66.9   7499.0   26.7   \n",
       "29               Burkina Faso   273.600      16.935     61.9    761.0   71.8   \n",
       "..                        ...       ...         ...      ...      ...    ...   \n",
       "187      Syrian Arab Republic   183.630      22.846    124.4      NaN   43.1   \n",
       "188                Tajikistan   139.960       8.208     58.6   1037.0   73.4   \n",
       "189                  Tanzania   885.800      49.253     55.6    913.0   69.8   \n",
       "190                  Thailand   510.890      67.011    131.2   5779.0   52.1   \n",
       "191               Timor-Leste    14.870       1.180     79.4      NaN   68.5   \n",
       "192                      Togo    54.390       6.817    125.3    636.0   61.0   \n",
       "193                     Tonga     0.720       0.105    145.8   4427.0   76.4   \n",
       "194       Trinidad and Tobago     5.130       1.341    261.4  18373.0   91.3   \n",
       "195                   Tunisia   155.360      10.887     70.1   4317.0   33.5   \n",
       "196                    Turkey   769.630      74.933     97.4  10972.0   27.6   \n",
       "197              Turkmenistan   469.930       5.240     11.2   7987.0   50.7   \n",
       "198  Turks and Caicos Islands     0.950       0.033     34.7      NaN    8.5   \n",
       "199                    Tuvalu     0.030       0.010    333.3   3880.0   42.2   \n",
       "200                    Uganda   199.810      37.579    188.1    657.0   84.6   \n",
       "201                   Ukraine   579.320      45.490     78.5   3900.0   30.7   \n",
       "202      United Arab Emirates    83.600       9.346    111.8  43049.0   15.0   \n",
       "203            United Kingdom   241.930      64.107    265.0  41781.0   17.9   \n",
       "204             United States  9147.420     316.129     34.6  53042.0   18.7   \n",
       "205                   Uruguay   175.020       3.407     19.5  16351.0    5.0   \n",
       "206                Uzbekistan   425.400      30.243     71.1   1878.0   63.8   \n",
       "207                   Vanuatu    12.190       0.253     20.8   3277.0   74.5   \n",
       "208             Venezuela, RB   882.050      30.405     34.5  14415.0   11.1   \n",
       "209                   Vietnam   310.070      89.709    289.3   1911.0   67.7   \n",
       "210     Virgin Islands (U.S.)     0.350       0.105    300.0      NaN    4.9   \n",
       "211        West Bank and Gaza     6.020       4.170    692.7      NaN   25.2   \n",
       "212               Yemen, Rep.   527.970      24.407     46.2   1473.0   66.6   \n",
       "213                    Zambia   743.390      14.539     19.6   1845.0   60.0   \n",
       "214                  Zimbabwe   386.850      14.150     36.6    953.0   67.3   \n",
       "215                       NaN       NaN         NaN      NaN      NaN    NaN   \n",
       "216                       NaN       NaN         NaN      NaN      NaN    NaN   \n",
       "\n",
       "      CO2  PumpPrice  Military  Health    ...      Diabetes  BirthRate  \\\n",
       "0    35.3       1.28      8.65    7.07    ...           8.1       34.1   \n",
       "1    12.8       1.81       NaN    9.85    ...           2.6       12.9   \n",
       "2    24.6       0.29       NaN    9.43    ...           7.3       24.3   \n",
       "3     NaN        NaN       NaN     NaN    ...           NaN        NaN   \n",
       "4     9.5       1.67       NaN   23.14    ...           5.4        NaN   \n",
       "5    44.8       0.63     13.81    7.74    ...           2.6       44.1   \n",
       "6    16.6        NaN       NaN   14.67    ...          13.1       16.5   \n",
       "7    16.9       1.46       NaN   31.76    ...           5.7       16.8   \n",
       "8    13.9       1.25     16.78    7.85    ...           2.6       13.7   \n",
       "9    10.4        NaN       NaN     NaN    ...          13.0       10.3   \n",
       "10   13.7       1.39      6.45   17.75    ...           4.1       13.2   \n",
       "11    9.4       1.81      2.04   16.31    ...           6.3        9.4   \n",
       "12   18.8       0.76     21.00    3.50    ...           2.6       18.3   \n",
       "13   15.4        NaN       NaN   13.96    ...          12.8       15.3   \n",
       "14   15.6       0.27       NaN   10.63    ...          21.9       15.2   \n",
       "15   20.3       1.15       NaN    7.84    ...           6.9       20.0   \n",
       "16   12.7        NaN       NaN   11.60    ...          12.4       12.7   \n",
       "17   12.2       0.88      4.20   13.45    ...           5.1       12.5   \n",
       "18   11.5       2.09      2.31   15.56    ...           4.7       11.2   \n",
       "19   23.8       1.44      4.28   11.90    ...          15.9       23.4   \n",
       "20   36.9       1.24      7.47   10.65    ...           1.5       36.4   \n",
       "21   10.0        NaN       NaN     NaN    ...          12.8       10.4   \n",
       "22   19.9       1.19       NaN    6.58    ...           5.8       19.6   \n",
       "23   25.9       0.70       NaN    9.68    ...           7.3       25.7   \n",
       "24    8.8       1.59      2.99   16.21    ...           9.6        9.0   \n",
       "25   23.8       1.23      7.59    8.75    ...           3.9       23.6   \n",
       "26   15.1       1.39      5.67    6.93    ...           8.7       14.9   \n",
       "27   15.9       0.43       NaN    7.42    ...           8.0       15.5   \n",
       "28    9.5       1.69      4.91   11.67    ...           5.0        9.2   \n",
       "29   41.4       1.43      8.97   13.52    ...           3.7       40.9   \n",
       "..    ...        ...       ...     ...    ...           ...        ...   \n",
       "187  24.4       0.79       NaN    5.31    ...           8.8       24.0   \n",
       "188  33.1       1.45       NaN    7.33    ...           6.4       33.0   \n",
       "189  39.7       1.31      4.84   11.17    ...           9.2       39.2   \n",
       "190  10.5       1.56      7.02   17.01    ...           7.4       10.2   \n",
       "191  35.9       1.65       NaN    3.02    ...           6.8       35.8   \n",
       "192  36.8       1.16       NaN   15.38    ...           4.7       36.4   \n",
       "193  26.1        NaN       NaN   13.71    ...          14.8       25.5   \n",
       "194  14.7        NaN       NaN    7.25    ...          13.1       14.5   \n",
       "195  19.3       0.93      5.09   13.33    ...           9.4       19.8   \n",
       "196  17.1       2.54      6.83   10.74    ...          14.8       16.8   \n",
       "197  21.5       0.22       NaN    8.68    ...           5.0       21.3   \n",
       "198   NaN        NaN       NaN     NaN    ...           NaN        NaN   \n",
       "199   NaN        NaN       NaN   22.09    ...          15.3        NaN   \n",
       "200  43.7        NaN     17.17   24.27    ...           5.2       43.2   \n",
       "201  11.4       1.35      6.38   12.17    ...           2.6       11.1   \n",
       "202  15.1       0.47       NaN    9.38    ...          19.0       14.5   \n",
       "203  12.8       2.17      5.31   16.18    ...           3.9       12.2   \n",
       "204  12.6       0.97     17.65   20.71    ...           9.4       12.5   \n",
       "205  14.6       1.97      6.20   20.43    ...           5.8       14.5   \n",
       "206  21.0       1.02       NaN    9.68    ...           6.4       22.5   \n",
       "207  26.9        NaN       NaN   14.13    ...          23.7       26.6   \n",
       "208  20.1       0.02       NaN    4.31    ...           6.9       19.8   \n",
       "209  15.9       1.15       NaN    9.33    ...           5.7       15.5   \n",
       "210  10.9        NaN       NaN     NaN    ...          12.1       10.7   \n",
       "211  30.6       1.87       NaN     NaN    ...           9.2       30.4   \n",
       "212  31.5       0.58       NaN    3.93    ...           8.3       31.1   \n",
       "213  43.0       1.48       NaN   12.57    ...           5.0       42.8   \n",
       "214  31.6       1.52       NaN     NaN    ...           9.3       31.3   \n",
       "215   NaN        NaN       NaN     NaN    ...           NaN        NaN   \n",
       "216   NaN        NaN       NaN     NaN    ...           NaN        NaN   \n",
       "\n",
       "     DeathRate  ElderlyPop  LifeExpectancy  FemaleLabor  Unemployment  \\\n",
       "0          7.8         2.3            60.9         16.2           NaN   \n",
       "1          6.9        10.7            77.5         51.7          13.4   \n",
       "2          5.9         4.6            71.0         16.2          11.0   \n",
       "3          NaN         NaN             NaN          NaN           NaN   \n",
       "4          NaN         NaN             NaN          NaN           NaN   \n",
       "5         13.9         2.4            51.9         64.5           NaN   \n",
       "6          6.1         7.1            75.8          NaN           NaN   \n",
       "7          7.7        10.9            76.2         55.1           7.2   \n",
       "8          8.7        10.3            74.5         58.4           NaN   \n",
       "9          8.4        11.3            75.3          NaN           NaN   \n",
       "10         6.3        14.3            82.2         70.5           5.2   \n",
       "11         9.4        18.4            80.9         70.6           4.3   \n",
       "12         5.8         5.6            70.7         68.1           5.2   \n",
       "13         6.1         7.7            75.1         76.4          14.0   \n",
       "14         2.3         2.2            76.7         40.7           1.2   \n",
       "15         5.7         4.8            70.7         60.4           NaN   \n",
       "16         9.1        10.9            75.3         76.6          11.6   \n",
       "17        13.2        13.8            72.5         62.2           NaN   \n",
       "18         9.8        18.0            80.4         62.1           7.5   \n",
       "19         4.5         4.0            73.9         51.9          14.4   \n",
       "20         9.5         2.9            59.3         68.9           NaN   \n",
       "21         6.8         NaN            80.6          NaN           8.4   \n",
       "22         6.5         4.8            68.3         69.1           2.1   \n",
       "23         7.1         4.9            67.2         66.2           NaN   \n",
       "24        10.1        15.6            76.3         42.0          28.1   \n",
       "25        16.9         3.6            47.4         75.0           NaN   \n",
       "26         6.5         7.5            73.9         65.0           NaN   \n",
       "27         3.1         4.3            78.6         55.7           NaN   \n",
       "28        14.4        19.3            74.5         63.7          12.3   \n",
       "29        11.1         2.4            56.3         79.5           NaN   \n",
       "..         ...         ...             ...          ...           ...   \n",
       "187        3.9         4.1            74.7         14.3           NaN   \n",
       "188        6.6         3.2            67.4         61.7           NaN   \n",
       "189        8.5         3.2            61.5         89.9           NaN   \n",
       "190        7.7         9.7            74.4         70.9           0.7   \n",
       "191        5.7         3.3            67.5         25.2           NaN   \n",
       "192       10.7         2.8            56.5         82.2           NaN   \n",
       "193        6.0         5.9            72.6         56.4           NaN   \n",
       "194        9.6         9.0            69.9         59.7           5.0   \n",
       "195        6.3         7.2            73.6         27.3          17.6   \n",
       "196        5.7         7.4            75.2         32.2           9.2   \n",
       "197        7.8         4.1            65.5         49.7           NaN   \n",
       "198        NaN         NaN             NaN          NaN           NaN   \n",
       "199        NaN         NaN             NaN          NaN           NaN   \n",
       "200        9.2         2.4            59.2         76.6           NaN   \n",
       "201       14.6        15.1            71.2         62.6           7.5   \n",
       "202        1.0         0.4            77.1         46.8           NaN   \n",
       "203        9.0        17.5            81.0         70.3           7.9   \n",
       "204        8.2        14.0            78.8         66.1           8.1   \n",
       "205        9.3        14.1            77.1         67.4           6.5   \n",
       "206        4.8         4.3            68.2         51.0           NaN   \n",
       "207        4.8         3.9            71.7         62.3           NaN   \n",
       "208        5.3         6.2            74.6         54.8           8.1   \n",
       "209        5.7         6.6            75.8         78.9           1.8   \n",
       "210        8.0        16.0            79.6         64.0           NaN   \n",
       "211        3.5         3.0            73.2         16.1          23.0   \n",
       "212        7.2         2.9            63.1         26.4           NaN   \n",
       "213       10.2         2.6            58.1         73.3           7.8   \n",
       "214        9.0         3.9            59.8         84.8          11.1   \n",
       "215        NaN         NaN             NaN          NaN           NaN   \n",
       "216        NaN         NaN             NaN          NaN           NaN   \n",
       "\n",
       "     EnergyUse  Electricity  Developed  \n",
       "0          NaN          NaN        NaN  \n",
       "1        748.0       2195.0        1.0  \n",
       "2       1108.0       1091.0        1.0  \n",
       "3          NaN          NaN        NaN  \n",
       "4          NaN          NaN        NaN  \n",
       "5        673.0        248.0        1.0  \n",
       "6          NaN          NaN        NaN  \n",
       "7       1967.0       2967.0        2.0  \n",
       "8        916.0       1755.0        1.0  \n",
       "9          NaN          NaN        NaN  \n",
       "10      5501.0      10712.0        3.0  \n",
       "11      3935.0       8388.0        3.0  \n",
       "12      1369.0       1705.0        1.0  \n",
       "13         NaN          NaN        NaN  \n",
       "14      7353.0      10018.0        3.0  \n",
       "15       205.0        259.0        1.0  \n",
       "16         NaN          NaN        NaN  \n",
       "17      3114.0       3628.0        2.0  \n",
       "18      5349.0       8021.0        3.0  \n",
       "19         NaN          NaN        NaN  \n",
       "20       385.0          NaN        NaN  \n",
       "21         NaN          NaN        NaN  \n",
       "22         NaN          NaN        NaN  \n",
       "23       746.0        623.0        1.0  \n",
       "24      1848.0       3189.0        2.0  \n",
       "25      1115.0       1603.0        1.0  \n",
       "26      1371.0       2438.0        1.0  \n",
       "27      9427.0       8507.0        3.0  \n",
       "28      2615.0       4864.0        2.0  \n",
       "29         NaN          NaN        NaN  \n",
       "..         ...          ...        ...  \n",
       "187      910.0       1715.0        1.0  \n",
       "188      306.0       1714.0        1.0  \n",
       "189      448.0         92.0        1.0  \n",
       "190     1790.0       2316.0        1.0  \n",
       "191        NaN          NaN        NaN  \n",
       "192      427.0          NaN        NaN  \n",
       "193        NaN          NaN        NaN  \n",
       "194    15691.0       6332.0        3.0  \n",
       "195      890.0       1297.0        1.0  \n",
       "196     1539.0       2709.0        2.0  \n",
       "197     4839.0       2444.0        1.0  \n",
       "198        NaN          NaN        NaN  \n",
       "199        NaN          NaN        NaN  \n",
       "200        NaN          NaN        NaN  \n",
       "201     2766.0       3662.0        2.0  \n",
       "202     7407.0       9389.0        3.0  \n",
       "203     2973.0       5472.0        3.0  \n",
       "204     7032.0      13246.0        3.0  \n",
       "205     1309.0       2810.0        2.0  \n",
       "206     1628.0       1626.0        1.0  \n",
       "207        NaN          NaN        NaN  \n",
       "208     2380.0       3313.0        2.0  \n",
       "209      697.0       1073.0        1.0  \n",
       "210        NaN          NaN        NaN  \n",
       "211        NaN          NaN        NaN  \n",
       "212      312.0        193.0        1.0  \n",
       "213      621.0        599.0        1.0  \n",
       "214      697.0        757.0        1.0  \n",
       "215        NaN          NaN        NaN  \n",
       "216        NaN          NaN        NaN  \n",
       "\n",
       "[217 rows x 25 columns]>"
      ]
     },
     "execution_count": 81,
     "metadata": {},
     "output_type": "execute_result"
    }
   ],
   "source": [
    "dataset.describe"
   ]
  },
  {
   "cell_type": "code",
   "execution_count": 82,
   "metadata": {
    "collapsed": false
   },
   "outputs": [
    {
     "data": {
      "text/plain": [
       "<matplotlib.figure.Figure at 0x2ce04583cc0>"
      ]
     },
     "execution_count": 82,
     "metadata": {},
     "output_type": "execute_result"
    },
    {
     "data": {
      "text/plain": [
       "<matplotlib.figure.Figure at 0x2ce04583cc0>"
      ]
     },
     "metadata": {},
     "output_type": "display_data"
    }
   ],
   "source": [
    "plt.figure(figsize=(50,50))"
   ]
  },
  {
   "cell_type": "code",
   "execution_count": 83,
   "metadata": {
    "collapsed": false
   },
   "outputs": [],
   "source": [
    "selected_data=dataset.loc[:,['Country','GDP']]"
   ]
  },
  {
   "cell_type": "code",
   "execution_count": 84,
   "metadata": {
    "collapsed": true
   },
   "outputs": [],
   "source": [
    "selected_data1=dataset.loc[:,['Country','BirthRate']]"
   ]
  },
  {
   "cell_type": "code",
   "execution_count": 85,
   "metadata": {
    "collapsed": true
   },
   "outputs": [],
   "source": [
    "selected_data2=dataset.loc[:,['Country','DeathRate']]"
   ]
  },
  {
   "cell_type": "code",
   "execution_count": 86,
   "metadata": {
    "collapsed": true
   },
   "outputs": [],
   "source": [
    "selected_data3=dataset.loc[:,['Country','LandArea']]"
   ]
  },
  {
   "cell_type": "code",
   "execution_count": 87,
   "metadata": {
    "collapsed": true
   },
   "outputs": [],
   "source": [
    "selected_data4=dataset.loc[:,['Country','Population']]"
   ]
  },
  {
   "cell_type": "code",
   "execution_count": 88,
   "metadata": {
    "collapsed": true
   },
   "outputs": [],
   "source": [
    "selected_data5=dataset.loc[:,['Country','LifeExpectancy']]"
   ]
  },
  {
   "cell_type": "code",
   "execution_count": 89,
   "metadata": {
    "collapsed": true
   },
   "outputs": [],
   "source": [
    "selected_data6=dataset.loc[:,['Country','Density']]"
   ]
  },
  {
   "cell_type": "code",
   "execution_count": 90,
   "metadata": {
    "collapsed": false
   },
   "outputs": [
    {
     "name": "stderr",
     "output_type": "stream",
     "text": [
      "C:\\Users\\hp\\Anaconda3\\lib\\site-packages\\ipykernel\\__main__.py:1: FutureWarning: by argument to sort_index is deprecated, pls use .sort_values(by=...)\n",
      "  if __name__ == '__main__':\n"
     ]
    }
   ],
   "source": [
    "sorted_data3=selected_data3.sort_index(by='LandArea',ascending=False)"
   ]
  },
  {
   "cell_type": "code",
   "execution_count": 91,
   "metadata": {
    "collapsed": false
   },
   "outputs": [
    {
     "name": "stderr",
     "output_type": "stream",
     "text": [
      "C:\\Users\\hp\\Anaconda3\\lib\\site-packages\\ipykernel\\__main__.py:1: FutureWarning: by argument to sort_index is deprecated, pls use .sort_values(by=...)\n",
      "  if __name__ == '__main__':\n"
     ]
    }
   ],
   "source": [
    "sorted_data4=selected_data4.sort_index(by='Population',ascending=False)"
   ]
  },
  {
   "cell_type": "code",
   "execution_count": 92,
   "metadata": {
    "collapsed": false
   },
   "outputs": [
    {
     "name": "stderr",
     "output_type": "stream",
     "text": [
      "C:\\Users\\hp\\Anaconda3\\lib\\site-packages\\ipykernel\\__main__.py:1: FutureWarning: by argument to sort_index is deprecated, pls use .sort_values(by=...)\n",
      "  if __name__ == '__main__':\n"
     ]
    }
   ],
   "source": [
    "sorted_data5=selected_data5.sort_index(by='LifeExpectancy',ascending=False)"
   ]
  },
  {
   "cell_type": "code",
   "execution_count": 93,
   "metadata": {
    "collapsed": false
   },
   "outputs": [
    {
     "name": "stderr",
     "output_type": "stream",
     "text": [
      "C:\\Users\\hp\\Anaconda3\\lib\\site-packages\\ipykernel\\__main__.py:1: FutureWarning: by argument to sort_index is deprecated, pls use .sort_values(by=...)\n",
      "  if __name__ == '__main__':\n"
     ]
    }
   ],
   "source": [
    "sorted_data6=selected_data6.sort_index(by='Density',ascending=False)"
   ]
  },
  {
   "cell_type": "code",
   "execution_count": 55,
   "metadata": {
    "collapsed": false
   },
   "outputs": [
    {
     "name": "stderr",
     "output_type": "stream",
     "text": [
      "C:\\Users\\hp\\Anaconda3\\lib\\site-packages\\ipykernel\\__main__.py:1: FutureWarning: by argument to sort_index is deprecated, pls use .sort_values(by=...)\n",
      "  if __name__ == '__main__':\n"
     ]
    }
   ],
   "source": [
    "sorted_data=selected_data.sort_index(by='GDP',ascending=False)"
   ]
  },
  {
   "cell_type": "code",
   "execution_count": 57,
   "metadata": {
    "collapsed": false
   },
   "outputs": [
    {
     "name": "stderr",
     "output_type": "stream",
     "text": [
      "C:\\Users\\hp\\Anaconda3\\lib\\site-packages\\ipykernel\\__main__.py:1: FutureWarning: by argument to sort_index is deprecated, pls use .sort_values(by=...)\n",
      "  if __name__ == '__main__':\n"
     ]
    }
   ],
   "source": [
    "sorted_data1=selected_data1.sort_index(by='BirthRate',ascending=False)"
   ]
  },
  {
   "cell_type": "code",
   "execution_count": 65,
   "metadata": {
    "collapsed": false
   },
   "outputs": [
    {
     "name": "stderr",
     "output_type": "stream",
     "text": [
      "C:\\Users\\hp\\Anaconda3\\lib\\site-packages\\ipykernel\\__main__.py:1: FutureWarning: by argument to sort_index is deprecated, pls use .sort_values(by=...)\n",
      "  if __name__ == '__main__':\n"
     ]
    }
   ],
   "source": [
    "sorted_data2=selected_data2.sort_index(by='DeathRate',ascending=False)"
   ]
  },
  {
   "cell_type": "code",
   "execution_count": 94,
   "metadata": {
    "collapsed": false
   },
   "outputs": [
    {
     "name": "stdout",
     "output_type": "stream",
     "text": [
      "                Country   LandArea\n",
      "158  Russian Federation  16376.870\n",
      "40                China   9388.211\n",
      "204       United States   9147.420\n",
      "34               Canada   9093.510\n",
      "26               Brazil   8358.140\n",
      "10            Australia   7682.300\n",
      "86                India   2973.190\n",
      "7             Argentina   2736.690\n",
      "97           Kazakhstan   2699.700\n",
      "2               Algeria   2381.740\n"
     ]
    }
   ],
   "source": [
    "print(sorted_data3.iloc[:10])"
   ]
  },
  {
   "cell_type": "code",
   "execution_count": 95,
   "metadata": {
    "collapsed": false
   },
   "outputs": [
    {
     "name": "stdout",
     "output_type": "stream",
     "text": [
      "                Country  Population\n",
      "40                China    1357.380\n",
      "86                India    1252.140\n",
      "204       United States     316.129\n",
      "87            Indonesia     249.866\n",
      "26               Brazil     200.362\n",
      "146            Pakistan     182.143\n",
      "141             Nigeria     173.615\n",
      "15           Bangladesh     156.595\n",
      "158  Russian Federation     143.500\n",
      "95                Japan     127.339\n"
     ]
    }
   ],
   "source": [
    "print(sorted_data4.iloc[:10])"
   ]
  },
  {
   "cell_type": "code",
   "execution_count": 96,
   "metadata": {
    "collapsed": false
   },
   "outputs": [
    {
     "name": "stdout",
     "output_type": "stream",
     "text": [
      "                  Country  LifeExpectancy\n",
      "83   Hong Kong SAR, China            83.8\n",
      "95                  Japan            83.3\n",
      "85                Iceland            83.1\n",
      "186           Switzerland            82.7\n",
      "111         Liechtenstein            82.4\n",
      "176                 Spain            82.4\n",
      "93                  Italy            82.3\n",
      "168             Singapore            82.3\n",
      "10              Australia            82.2\n",
      "92                 Israel            82.1\n"
     ]
    }
   ],
   "source": [
    "print(sorted_data5.iloc[:10])"
   ]
  },
  {
   "cell_type": "code",
   "execution_count": 97,
   "metadata": {
    "collapsed": false
   },
   "outputs": [
    {
     "name": "stdout",
     "output_type": "stream",
     "text": [
      "                       Country  Density\n",
      "128                     Monaco  19000.0\n",
      "114           Macao SAR, China  18929.8\n",
      "168                  Singapore   7712.9\n",
      "83        Hong Kong SAR, China   6845.7\n",
      "14                     Bahrain   1752.6\n",
      "121                      Malta   1321.9\n",
      "21                     Bermuda   1300.0\n",
      "15                  Bangladesh   1203.0\n",
      "169  Sint Maarten (Dutch part)   1176.5\n",
      "119                   Maldives   1150.0\n"
     ]
    }
   ],
   "source": [
    "print(sorted_data6.iloc[:10])"
   ]
  },
  {
   "cell_type": "code",
   "execution_count": 98,
   "metadata": {
    "collapsed": false
   },
   "outputs": [
    {
     "name": "stdout",
     "output_type": "stream",
     "text": [
      "              Country  BirthRate\n",
      "140             Niger       49.7\n",
      "120              Mali       47.1\n",
      "37               Chad       45.9\n",
      "30            Burundi       44.7\n",
      "5              Angola       44.1\n",
      "173           Somalia       43.8\n",
      "200            Uganda       43.2\n",
      "213            Zambia       42.8\n",
      "43   Congo, Dem. Rep.       42.7\n",
      "69        Gambia, The       42.7\n"
     ]
    }
   ],
   "source": [
    "print(sorted_data1.iloc[:10])"
   ]
  },
  {
   "cell_type": "code",
   "execution_count": 99,
   "metadata": {
    "collapsed": false
   },
   "outputs": [
    {
     "name": "stdout",
     "output_type": "stream",
     "text": [
      "              Country       GDP\n",
      "113        Luxembourg  110665.0\n",
      "143            Norway  100898.0\n",
      "156             Qatar   93714.0\n",
      "114  Macao SAR, China   91376.0\n",
      "186       Switzerland   84748.0\n",
      "10          Australia   67463.0\n",
      "185            Sweden   60381.0\n",
      "52            Denmark   59819.0\n",
      "168         Singapore   55182.0\n",
      "204     United States   53042.0\n"
     ]
    }
   ],
   "source": [
    "print(sorted_data.iloc[:10])"
   ]
  },
  {
   "cell_type": "code",
   "execution_count": 100,
   "metadata": {
    "collapsed": false
   },
   "outputs": [
    {
     "name": "stdout",
     "output_type": "stream",
     "text": [
      "                      Country  DeathRate\n",
      "167              Sierra Leone       17.2\n",
      "25                   Botswana       16.9\n",
      "43           Congo, Dem. Rep.       15.4\n",
      "108                   Lesotho       15.0\n",
      "36   Central African Republic       14.9\n",
      "201                   Ukraine       14.6\n",
      "28                   Bulgaria       14.4\n",
      "37                       Chad       14.3\n",
      "184                 Swaziland       14.3\n",
      "106                    Latvia       14.3\n"
     ]
    }
   ],
   "source": [
    "print(sorted_data2.iloc[:10])"
   ]
  },
  {
   "cell_type": "code",
   "execution_count": 109,
   "metadata": {
    "collapsed": false
   },
   "outputs": [],
   "source": [
    "selected_sorted_data=sorted_data.iloc[:10]"
   ]
  },
  {
   "cell_type": "code",
   "execution_count": 110,
   "metadata": {
    "collapsed": true
   },
   "outputs": [],
   "source": [
    "selected_sorted_data1=sorted_data1.iloc[:10]"
   ]
  },
  {
   "cell_type": "code",
   "execution_count": 111,
   "metadata": {
    "collapsed": true
   },
   "outputs": [],
   "source": [
    "selected_sorted_data2=sorted_data2.iloc[:10]"
   ]
  },
  {
   "cell_type": "code",
   "execution_count": 112,
   "metadata": {
    "collapsed": true
   },
   "outputs": [],
   "source": [
    "selected_sorted_data3=sorted_data3.iloc[:10]"
   ]
  },
  {
   "cell_type": "code",
   "execution_count": 113,
   "metadata": {
    "collapsed": true
   },
   "outputs": [],
   "source": [
    "selected_sorted_data4=sorted_data4.iloc[:10]"
   ]
  },
  {
   "cell_type": "code",
   "execution_count": 114,
   "metadata": {
    "collapsed": true
   },
   "outputs": [],
   "source": [
    "selected_sorted_data5=sorted_data5.iloc[:10]"
   ]
  },
  {
   "cell_type": "code",
   "execution_count": 115,
   "metadata": {
    "collapsed": true
   },
   "outputs": [],
   "source": [
    "selected_sorted_data6=sorted_data6.iloc[:10]"
   ]
  },
  {
   "cell_type": "code",
   "execution_count": 116,
   "metadata": {
    "collapsed": false
   },
   "outputs": [
    {
     "data": {
      "text/plain": [
       "([<matplotlib.patches.Wedge at 0x2ce05a92860>,\n",
       "  <matplotlib.patches.Wedge at 0x2ce05a9b4e0>,\n",
       "  <matplotlib.patches.Wedge at 0x2ce05aa1160>,\n",
       "  <matplotlib.patches.Wedge at 0x2ce05aa1da0>,\n",
       "  <matplotlib.patches.Wedge at 0x2ce05aaaa20>,\n",
       "  <matplotlib.patches.Wedge at 0x2ce05ab26a0>,\n",
       "  <matplotlib.patches.Wedge at 0x2ce05aba320>,\n",
       "  <matplotlib.patches.Wedge at 0x2ce05abaf60>,\n",
       "  <matplotlib.patches.Wedge at 0x2ce05ac4be0>,\n",
       "  <matplotlib.patches.Wedge at 0x2ce05ac9860>],\n",
       " [<matplotlib.text.Text at 0x2ce05a92fd0>,\n",
       "  <matplotlib.text.Text at 0x2ce05a9bc50>,\n",
       "  <matplotlib.text.Text at 0x2ce05aa18d0>,\n",
       "  <matplotlib.text.Text at 0x2ce05aaa550>,\n",
       "  <matplotlib.text.Text at 0x2ce05ab21d0>,\n",
       "  <matplotlib.text.Text at 0x2ce05ab2e10>,\n",
       "  <matplotlib.text.Text at 0x2ce05abaa90>,\n",
       "  <matplotlib.text.Text at 0x2ce05ac4710>,\n",
       "  <matplotlib.text.Text at 0x2ce05ac9390>,\n",
       "  <matplotlib.text.Text at 0x2ce05ac9fd0>])"
      ]
     },
     "execution_count": 116,
     "metadata": {},
     "output_type": "execute_result"
    },
    {
     "data": {
      "image/png": "[encoded data removed]",
      "text/plain": [
       "<matplotlib.figure.Figure at 0x2ce04a46be0>"
      ]
     },
     "metadata": {},
     "output_type": "display_data"
    }
   ],
   "source": [
    "plt.pie(selected_sorted_data['GDP'],labels=selected_sorted_data['Country'])"
   ]
  },
  {
   "cell_type": "code",
   "execution_count": 117,
   "metadata": {
    "collapsed": false
   },
   "outputs": [
    {
     "data": {
      "text/plain": [
       "([<matplotlib.patches.Wedge at 0x2ce05b3d080>,\n",
       "  <matplotlib.patches.Wedge at 0x2ce05b3dcc0>,\n",
       "  <matplotlib.patches.Wedge at 0x2ce05b45940>,\n",
       "  <matplotlib.patches.Wedge at 0x2ce05b4c5c0>,\n",
       "  <matplotlib.patches.Wedge at 0x2ce05b55240>,\n",
       "  <matplotlib.patches.Wedge at 0x2ce05b55e80>,\n",
       "  <matplotlib.patches.Wedge at 0x2ce05b5eb00>,\n",
       "  <matplotlib.patches.Wedge at 0x2ce05b65780>,\n",
       "  <matplotlib.patches.Wedge at 0x2ce05b6e400>,\n",
       "  <matplotlib.patches.Wedge at 0x2ce05b74080>],\n",
       " [<matplotlib.text.Text at 0x2ce05b3d7f0>,\n",
       "  <matplotlib.text.Text at 0x2ce05b45470>,\n",
       "  <matplotlib.text.Text at 0x2ce05b4c0f0>,\n",
       "  <matplotlib.text.Text at 0x2ce05b4cd30>,\n",
       "  <matplotlib.text.Text at 0x2ce05b559b0>,\n",
       "  <matplotlib.text.Text at 0x2ce05b5e630>,\n",
       "  <matplotlib.text.Text at 0x2ce05b652b0>,\n",
       "  <matplotlib.text.Text at 0x2ce05b65ef0>,\n",
       "  <matplotlib.text.Text at 0x2ce05b6eb70>,\n",
       "  <matplotlib.text.Text at 0x2ce05b747f0>])"
      ]
     },
     "execution_count": 117,
     "metadata": {},
     "output_type": "execute_result"
    },
    {
     "data": {
      "image/png": "[encoded data removed]",
      "text/plain": [
       "<matplotlib.figure.Figure at 0x2ce05a48240>"
      ]
     },
     "metadata": {},
     "output_type": "display_data"
    }
   ],
   "source": [
    "plt.pie(selected_sorted_data1['BirthRate'],labels=selected_sorted_data1['Country'])"
   ]
  },
  {
   "cell_type": "code",
   "execution_count": 118,
   "metadata": {
    "collapsed": false
   },
   "outputs": [
    {
     "data": {
      "text/plain": [
       "([<matplotlib.patches.Wedge at 0x2ce05bdefd0>,\n",
       "  <matplotlib.patches.Wedge at 0x2ce05be8c50>,\n",
       "  <matplotlib.patches.Wedge at 0x2ce05bee8d0>,\n",
       "  <matplotlib.patches.Wedge at 0x2ce05bf6550>,\n",
       "  <matplotlib.patches.Wedge at 0x2ce05bfd1d0>,\n",
       "  <matplotlib.patches.Wedge at 0x2ce05bfde10>,\n",
       "  <matplotlib.patches.Wedge at 0x2ce05c07a90>,\n",
       "  <matplotlib.patches.Wedge at 0x2ce05c10710>,\n",
       "  <matplotlib.patches.Wedge at 0x2ce05c19390>,\n",
       "  <matplotlib.patches.Wedge at 0x2ce05c19fd0>],\n",
       " [<matplotlib.text.Text at 0x2ce05be8780>,\n",
       "  <matplotlib.text.Text at 0x2ce05bee400>,\n",
       "  <matplotlib.text.Text at 0x2ce05beef98>,\n",
       "  <matplotlib.text.Text at 0x2ce05bf6cc0>,\n",
       "  <matplotlib.text.Text at 0x2ce05bfd940>,\n",
       "  <matplotlib.text.Text at 0x2ce05c075c0>,\n",
       "  <matplotlib.text.Text at 0x2ce05c10240>,\n",
       "  <matplotlib.text.Text at 0x2ce05c10e80>,\n",
       "  <matplotlib.text.Text at 0x2ce05c19b00>,\n",
       "  <matplotlib.text.Text at 0x2ce05c20780>])"
      ]
     },
     "execution_count": 118,
     "metadata": {},
     "output_type": "execute_result"
    },
    {
     "data": {
      "image/png": "[encoded data removed]",
      "text/plain": [
       "<matplotlib.figure.Figure at 0x2ce05af7390>"
      ]
     },
     "metadata": {},
     "output_type": "display_data"
    }
   ],
   "source": [
    "plt.pie(selected_sorted_data2['DeathRate'],labels=selected_sorted_data2['Country'])"
   ]
  },
  {
   "cell_type": "code",
   "execution_count": 119,
   "metadata": {
    "collapsed": false
   },
   "outputs": [
    {
     "data": {
      "text/plain": [
       "([<matplotlib.patches.Wedge at 0x2ce05c88f60>,\n",
       "  <matplotlib.patches.Wedge at 0x2ce05c94be0>,\n",
       "  <matplotlib.patches.Wedge at 0x2ce05c9b860>,\n",
       "  <matplotlib.patches.Wedge at 0x2ce05ca14e0>,\n",
       "  <matplotlib.patches.Wedge at 0x2ce05cab160>,\n",
       "  <matplotlib.patches.Wedge at 0x2ce05cabda0>,\n",
       "  <matplotlib.patches.Wedge at 0x2ce05cb1a20>,\n",
       "  <matplotlib.patches.Wedge at 0x2ce05cba6a0>,\n",
       "  <matplotlib.patches.Wedge at 0x2ce05cc2320>,\n",
       "  <matplotlib.patches.Wedge at 0x2ce05cc2f60>],\n",
       " [<matplotlib.text.Text at 0x2ce05c94710>,\n",
       "  <matplotlib.text.Text at 0x2ce05c9b390>,\n",
       "  <matplotlib.text.Text at 0x2ce05c9bfd0>,\n",
       "  <matplotlib.text.Text at 0x2ce05ca1c50>,\n",
       "  <matplotlib.text.Text at 0x2ce05cab8d0>,\n",
       "  <matplotlib.text.Text at 0x2ce05cb1550>,\n",
       "  <matplotlib.text.Text at 0x2ce05cba1d0>,\n",
       "  <matplotlib.text.Text at 0x2ce05cbae10>,\n",
       "  <matplotlib.text.Text at 0x2ce05cc2a90>,\n",
       "  <matplotlib.text.Text at 0x2ce05cca710>])"
      ]
     },
     "execution_count": 119,
     "metadata": {},
     "output_type": "execute_result"
    },
    {
     "data": {
      "image/png": "[encoded data removed]",
      "text/plain": [
       "<matplotlib.figure.Figure at 0x2ce05ba04a8>"
      ]
     },
     "metadata": {},
     "output_type": "display_data"
    }
   ],
   "source": [
    "plt.pie(selected_sorted_data3['LandArea'],labels=selected_sorted_data3['Country'])"
   ]
  },
  {
   "cell_type": "code",
   "execution_count": 120,
   "metadata": {
    "collapsed": false
   },
   "outputs": [
    {
     "data": {
      "text/plain": [
       "([<matplotlib.patches.Wedge at 0x2ce05d33ef0>,\n",
       "  <matplotlib.patches.Wedge at 0x2ce05d3db70>,\n",
       "  <matplotlib.patches.Wedge at 0x2ce05d447f0>,\n",
       "  <matplotlib.patches.Wedge at 0x2ce05d4d470>,\n",
       "  <matplotlib.patches.Wedge at 0x2ce05d540f0>,\n",
       "  <matplotlib.patches.Wedge at 0x2ce05d54d30>,\n",
       "  <matplotlib.patches.Wedge at 0x2ce05d5b9b0>,\n",
       "  <matplotlib.patches.Wedge at 0x2ce05d65630>,\n",
       "  <matplotlib.patches.Wedge at 0x2ce05d6d2b0>,\n",
       "  <matplotlib.patches.Wedge at 0x2ce05d6def0>],\n",
       " [<matplotlib.text.Text at 0x2ce05d3d6a0>,\n",
       "  <matplotlib.text.Text at 0x2ce05d44320>,\n",
       "  <matplotlib.text.Text at 0x2ce05d44f60>,\n",
       "  <matplotlib.text.Text at 0x2ce05d4dbe0>,\n",
       "  <matplotlib.text.Text at 0x2ce05d54860>,\n",
       "  <matplotlib.text.Text at 0x2ce05d5b4e0>,\n",
       "  <matplotlib.text.Text at 0x2ce05d65160>,\n",
       "  <matplotlib.text.Text at 0x2ce05d65da0>,\n",
       "  <matplotlib.text.Text at 0x2ce05d6da20>,\n",
       "  <matplotlib.text.Text at 0x2ce05d746a0>])"
      ]
     },
     "execution_count": 120,
     "metadata": {},
     "output_type": "execute_result"
    },
    {
     "data": {
      "image/png": "[encoded data removed]",
      "text/plain": [
       "<matplotlib.figure.Figure at 0x2ce05c4e518>"
      ]
     },
     "metadata": {},
     "output_type": "display_data"
    }
   ],
   "source": [
    "plt.pie(selected_sorted_data4['Population'],labels=selected_sorted_data4['Country'])"
   ]
  },
  {
   "cell_type": "code",
   "execution_count": 121,
   "metadata": {
    "collapsed": false
   },
   "outputs": [
    {
     "data": {
      "text/plain": [
       "([<matplotlib.patches.Wedge at 0x2ce05ddfd30>,\n",
       "  <matplotlib.patches.Wedge at 0x2ce05de99b0>,\n",
       "  <matplotlib.patches.Wedge at 0x2ce05def630>,\n",
       "  <matplotlib.patches.Wedge at 0x2ce05df82b0>,\n",
       "  <matplotlib.patches.Wedge at 0x2ce05df8ef0>,\n",
       "  <matplotlib.patches.Wedge at 0x2ce05e02b70>,\n",
       "  <matplotlib.patches.Wedge at 0x2ce05e097f0>,\n",
       "  <matplotlib.patches.Wedge at 0x2ce05e10470>,\n",
       "  <matplotlib.patches.Wedge at 0x2ce05e180f0>,\n",
       "  <matplotlib.patches.Wedge at 0x2ce05e18d30>],\n",
       " [<matplotlib.text.Text at 0x2ce05de94e0>,\n",
       "  <matplotlib.text.Text at 0x2ce05def160>,\n",
       "  <matplotlib.text.Text at 0x2ce05defda0>,\n",
       "  <matplotlib.text.Text at 0x2ce05df8a20>,\n",
       "  <matplotlib.text.Text at 0x2ce05e026a0>,\n",
       "  <matplotlib.text.Text at 0x2ce05e09320>,\n",
       "  <matplotlib.text.Text at 0x2ce05e09f60>,\n",
       "  <matplotlib.text.Text at 0x2ce05e10be0>,\n",
       "  <matplotlib.text.Text at 0x2ce05e18860>,\n",
       "  <matplotlib.text.Text at 0x2ce05e224e0>])"
      ]
     },
     "execution_count": 121,
     "metadata": {},
     "output_type": "execute_result"
    },
    {
     "data": {
      "image/png": "[encoded data removed]",
      "text/plain": [
       "<matplotlib.figure.Figure at 0x2ce05cf7588>"
      ]
     },
     "metadata": {},
     "output_type": "display_data"
    }
   ],
   "source": [
    "plt.pie(selected_sorted_data5['LifeExpectancy'],labels=selected_sorted_data5['Country'])"
   ]
  },
  {
   "cell_type": "code",
   "execution_count": 122,
   "metadata": {
    "collapsed": false
   },
   "outputs": [
    {
     "data": {
      "text/plain": [
       "([<matplotlib.patches.Wedge at 0x2ce05e8ce48>,\n",
       "  <matplotlib.patches.Wedge at 0x2ce05e92ac8>,\n",
       "  <matplotlib.patches.Wedge at 0x2ce05e9c748>,\n",
       "  <matplotlib.patches.Wedge at 0x2ce05ea43c8>,\n",
       "  <matplotlib.patches.Wedge at 0x2ce05ead048>,\n",
       "  <matplotlib.patches.Wedge at 0x2ce05eadc88>,\n",
       "  <matplotlib.patches.Wedge at 0x2ce05eb3908>,\n",
       "  <matplotlib.patches.Wedge at 0x2ce05eba588>,\n",
       "  <matplotlib.patches.Wedge at 0x2ce05ec4208>,\n",
       "  <matplotlib.patches.Wedge at 0x2ce05ec4e48>],\n",
       " [<matplotlib.text.Text at 0x2ce05e925f8>,\n",
       "  <matplotlib.text.Text at 0x2ce05e9c278>,\n",
       "  <matplotlib.text.Text at 0x2ce05e9ceb8>,\n",
       "  <matplotlib.text.Text at 0x2ce05ea4b38>,\n",
       "  <matplotlib.text.Text at 0x2ce05ead7b8>,\n",
       "  <matplotlib.text.Text at 0x2ce05eb3438>,\n",
       "  <matplotlib.text.Text at 0x2ce05eb3fd0>,\n",
       "  <matplotlib.text.Text at 0x2ce05ebacf8>,\n",
       "  <matplotlib.text.Text at 0x2ce05ec4978>,\n",
       "  <matplotlib.text.Text at 0x2ce05ecd5f8>])"
      ]
     },
     "execution_count": 122,
     "metadata": {},
     "output_type": "execute_result"
    },
    {
     "data": {
      "image/png": "[encoded data removed]",
      "text/plain": [
       "<matplotlib.figure.Figure at 0x2ce05d9a630>"
      ]
     },
     "metadata": {},
     "output_type": "display_data"
    }
   ],
   "source": [
    "plt.pie(selected_sorted_data6['Density'],labels=selected_sorted_data6['Country'])"
   ]
  },
  {
   "cell_type": "code",
   "execution_count": 124,
   "metadata": {
    "collapsed": true
   },
   "outputs": [],
   "source": [
    "selected_data7=dataset.loc[:,['CO2','Health']]"
   ]
  },
  {
   "cell_type": "code",
   "execution_count": 125,
   "metadata": {
    "collapsed": false
   },
   "outputs": [
    {
     "name": "stderr",
     "output_type": "stream",
     "text": [
      "C:\\Users\\hp\\Anaconda3\\lib\\site-packages\\ipykernel\\__main__.py:1: FutureWarning: by argument to sort_index is deprecated, pls use .sort_values(by=...)\n",
      "  if __name__ == '__main__':\n"
     ]
    }
   ],
   "source": [
    "sorted_data7=selected_data7.sort_index(by='Health',ascending=False)"
   ]
  },
  {
   "cell_type": "code",
   "execution_count": 126,
   "metadata": {
    "collapsed": false
   },
   "outputs": [
    {
     "name": "stdout",
     "output_type": "stream",
     "text": [
      "      CO2  Health\n",
      "7    16.9   31.76\n",
      "45   15.3   26.89\n",
      "200  43.7   24.27\n",
      "122   NaN   24.01\n",
      "4     9.5   23.14\n",
      "159  35.8   22.32\n",
      "199   NaN   22.09\n",
      "186  10.3   22.08\n",
      "139  23.1   20.89\n",
      "204  12.6   20.71\n"
     ]
    }
   ],
   "source": [
    "print(sorted_data7.iloc[:10])"
   ]
  },
  {
   "cell_type": "code",
   "execution_count": 127,
   "metadata": {
    "collapsed": true
   },
   "outputs": [],
   "source": [
    "selected_sorted_data7=sorted_data7.iloc[:10]"
   ]
  },
  {
   "cell_type": "code",
   "execution_count": 129,
   "metadata": {
    "collapsed": false
   },
   "outputs": [
    {
     "data": {
      "text/plain": [
       "([<matplotlib.patches.Wedge at 0x2ce05f45978>,\n",
       "  <matplotlib.patches.Wedge at 0x2ce05f4c668>,\n",
       "  <matplotlib.patches.Wedge at 0x2ce05f54358>,\n",
       "  <matplotlib.patches.Wedge at 0x2ce05f5d048>,\n",
       "  <matplotlib.patches.Wedge at 0x2ce05f5dcf8>,\n",
       "  <matplotlib.patches.Wedge at 0x2ce05f679e8>,\n",
       "  <matplotlib.patches.Wedge at 0x2ce05f6c6d8>,\n",
       "  <matplotlib.patches.Wedge at 0x2ce05f743c8>,\n",
       "  <matplotlib.patches.Wedge at 0x2ce05f7c0b8>,\n",
       "  <matplotlib.patches.Wedge at 0x2ce05f7cd68>],\n",
       " [<matplotlib.text.Text at 0x2ce05f4c160>,\n",
       "  <matplotlib.text.Text at 0x2ce05f4ce10>,\n",
       "  <matplotlib.text.Text at 0x2ce05f54b00>,\n",
       "  <matplotlib.text.Text at 0x2ce05f5d7f0>,\n",
       "  <matplotlib.text.Text at 0x2ce05f674e0>,\n",
       "  <matplotlib.text.Text at 0x2ce05f6c1d0>,\n",
       "  <matplotlib.text.Text at 0x2ce05f6ce80>,\n",
       "  <matplotlib.text.Text at 0x2ce05f74b70>,\n",
       "  <matplotlib.text.Text at 0x2ce05f7c860>,\n",
       "  <matplotlib.text.Text at 0x2ce05f84550>])"
      ]
     },
     "execution_count": 129,
     "metadata": {},
     "output_type": "execute_result"
    },
    {
     "data": {
      "image/png": "[encoded data removed]",
      "text/plain": [
       "<matplotlib.figure.Figure at 0x2ce05e2fda0>"
      ]
     },
     "metadata": {},
     "output_type": "display_data"
    }
   ],
   "source": [
    "plt.pie(selected_sorted_data7['Health'],labels=selected_sorted_data7['CO2'])"
   ]
  },
  {
   "cell_type": "code",
   "execution_count": 131,
   "metadata": {
    "collapsed": true
   },
   "outputs": [],
   "source": [
    "selected_data8=dataset.loc[:,['GDP','LifeExpectancy']]"
   ]
  },
  {
   "cell_type": "code",
   "execution_count": 132,
   "metadata": {
    "collapsed": false
   },
   "outputs": [
    {
     "name": "stderr",
     "output_type": "stream",
     "text": [
      "C:\\Users\\hp\\Anaconda3\\lib\\site-packages\\ipykernel\\__main__.py:1: FutureWarning: by argument to sort_index is deprecated, pls use .sort_values(by=...)\n",
      "  if __name__ == '__main__':\n"
     ]
    }
   ],
   "source": [
    "sorted_data8=selected_data8.sort_index(by='LifeExpectancy',ascending=False)"
   ]
  },
  {
   "cell_type": "code",
   "execution_count": 133,
   "metadata": {
    "collapsed": false
   },
   "outputs": [
    {
     "name": "stdout",
     "output_type": "stream",
     "text": [
      "         GDP  LifeExpectancy\n",
      "83   38124.0            83.8\n",
      "95   38634.0            83.3\n",
      "85   47349.0            83.1\n",
      "186  84748.0            82.7\n",
      "111      NaN            82.4\n",
      "176  29882.0            82.4\n",
      "93   35686.0            82.3\n",
      "168  55182.0            82.3\n",
      "10   67463.0            82.2\n",
      "92   36051.0            82.1\n"
     ]
    }
   ],
   "source": [
    "print(sorted_data8.iloc[:10])"
   ]
  },
  {
   "cell_type": "code",
   "execution_count": 134,
   "metadata": {
    "collapsed": true
   },
   "outputs": [],
   "source": [
    "selected_sorted_data8=sorted_data8.iloc[:10]"
   ]
  },
  {
   "cell_type": "code",
   "execution_count": 136,
   "metadata": {
    "collapsed": false
   },
   "outputs": [
    {
     "data": {
      "text/plain": [
       "([<matplotlib.patches.Wedge at 0x2ce062435f8>,\n",
       "  <matplotlib.patches.Wedge at 0x2ce0624a2e8>,\n",
       "  <matplotlib.patches.Wedge at 0x2ce0624af98>,\n",
       "  <matplotlib.patches.Wedge at 0x2ce06254c88>,\n",
       "  <matplotlib.patches.Wedge at 0x2ce0625c978>,\n",
       "  <matplotlib.patches.Wedge at 0x2ce06264668>,\n",
       "  <matplotlib.patches.Wedge at 0x2ce0626b358>,\n",
       "  <matplotlib.patches.Wedge at 0x2ce06272048>,\n",
       "  <matplotlib.patches.Wedge at 0x2ce06272cf8>,\n",
       "  <matplotlib.patches.Wedge at 0x2ce0627b9e8>],\n",
       " [<matplotlib.text.Text at 0x2ce06243da0>,\n",
       "  <matplotlib.text.Text at 0x2ce0624aa90>,\n",
       "  <matplotlib.text.Text at 0x2ce06254780>,\n",
       "  <matplotlib.text.Text at 0x2ce0625c470>,\n",
       "  <matplotlib.text.Text at 0x2ce06264160>,\n",
       "  <matplotlib.text.Text at 0x2ce06264e10>,\n",
       "  <matplotlib.text.Text at 0x2ce0626bb00>,\n",
       "  <matplotlib.text.Text at 0x2ce062727f0>,\n",
       "  <matplotlib.text.Text at 0x2ce0627b4e0>,\n",
       "  <matplotlib.text.Text at 0x2ce062821d0>])"
      ]
     },
     "execution_count": 136,
     "metadata": {},
     "output_type": "execute_result"
    },
    {
     "data": {
      "image/png": "[encoded data removed]",
      "text/plain": [
       "<matplotlib.figure.Figure at 0x2ce060960b8>"
      ]
     },
     "metadata": {},
     "output_type": "display_data"
    }
   ],
   "source": [
    "plt.pie(selected_sorted_data8['LifeExpectancy'],labels=selected_sorted_data8['GDP'])"
   ]
  },
  {
   "cell_type": "code",
   "execution_count": null,
   "metadata": {
    "collapsed": true
   },
   "outputs": [],
   "source": []
  }
 ],
 "metadata": {
  "kernelspec": {
   "display_name": "Python 3",
   "language": "python",
   "name": "python3"
  },
  "language_info": {
   "codemirror_mode": {
    "name": "ipython",
    "version": 3
   },
   "file_extension": ".py",
   "mimetype": "text/x-python",
   "name": "python",
   "nbconvert_exporter": "python",
   "pygments_lexer": "ipython3",
   "version": "3.6.0"
  }
 },
 "nbformat": 4,
 "nbformat_minor": 2
}
